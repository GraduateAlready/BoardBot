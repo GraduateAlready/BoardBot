{
  "nbformat": 4,
  "nbformat_minor": 0,
  "metadata": {
    "colab": {
      "name": "Copy of CTGAN!nvidia-smi.ipynb",
      "provenance": [],
      "collapsed_sections": [],
      "machine_shape": "hm"
    },
    "kernelspec": {
      "name": "python3",
      "display_name": "Python 3"
    },
    "language_info": {
      "name": "python"
    },
    "accelerator": "GPU"
  },
  "cells": [
    {
      "cell_type": "code",
      "metadata": {
        "colab": {
          "base_uri": "https://localhost:8080/"
        },
        "id": "_QrxZ9Mb6_xJ",
        "outputId": "cef4668a-b4b3-45e5-b401-eb105ba9365a"
      },
      "source": [
        "!nvidia-smi\n",
        "!git clone https://github.com/jonathancaevans/BoardBot.git\n",
        "!sed -i -e 's/yourusername/*yourusername*/g' BoardBot/getClimbs.py\n",
        "!sed -i -e 's/yourpassword/*yourpassword*/g' BoardBot/getClimbs.py\n",
        "!python BoardBot/getBoarddims.py\n",
        "!mkdir placementMaps\n",
        "!python BoardBot/main.py"
      ],
      "execution_count": 1,
      "outputs": [
        {
          "output_type": "stream",
          "name": "stdout",
          "text": [
            "Fri Nov 12 20:30:46 2021       \n",
            "+-----------------------------------------------------------------------------+\n",
            "| NVIDIA-SMI 495.44       Driver Version: 460.32.03    CUDA Version: 11.2     |\n",
            "|-------------------------------+----------------------+----------------------+\n",
            "| GPU  Name        Persistence-M| Bus-Id        Disp.A | Volatile Uncorr. ECC |\n",
            "| Fan  Temp  Perf  Pwr:Usage/Cap|         Memory-Usage | GPU-Util  Compute M. |\n",
            "|                               |                      |               MIG M. |\n",
            "|===============================+======================+======================|\n",
            "|   0  Tesla P100-PCIE...  Off  | 00000000:00:04.0 Off |                    0 |\n",
            "| N/A   33C    P0    27W / 250W |      0MiB / 16280MiB |      0%      Default |\n",
            "|                               |                      |                  N/A |\n",
            "+-------------------------------+----------------------+----------------------+\n",
            "                                                                               \n",
            "+-----------------------------------------------------------------------------+\n",
            "| Processes:                                                                  |\n",
            "|  GPU   GI   CI        PID   Type   Process name                  GPU Memory |\n",
            "|        ID   ID                                                   Usage      |\n",
            "|=============================================================================|\n",
            "|  No running processes found                                                 |\n",
            "+-----------------------------------------------------------------------------+\n",
            "Cloning into 'BoardBot'...\n",
            "remote: Enumerating objects: 20, done.\u001b[K\n",
            "remote: Counting objects: 100% (20/20), done.\u001b[K\n",
            "remote: Compressing objects: 100% (16/16), done.\u001b[K\n",
            "remote: Total 20 (delta 6), reused 18 (delta 4), pack-reused 0\u001b[K\n",
            "Unpacking objects: 100% (20/20), done.\n",
            "60657\n"
          ]
        }
      ]
    },
    {
      "cell_type": "code",
      "metadata": {
        "id": "hhGqUvaa5ovm"
      },
      "source": [
        "import pandas as pd\n",
        "import glob\n",
        "climbs=[]\n",
        "for file in glob.glob('/content/placementMaps/*.csv'):\n",
        "  df=pd.read_csv(file, sep=',',header=None)\n",
        "  climbs.append(df)"
      ],
      "execution_count": 1,
      "outputs": []
    },
    {
      "cell_type": "code",
      "metadata": {
        "id": "j72eY6vG7oCQ"
      },
      "source": [
        "frame = pd.concat(climbs, axis=1, ignore_index=True)\n",
        "frame = frame.transpose()"
      ],
      "execution_count": 2,
      "outputs": []
    },
    {
      "cell_type": "code",
      "metadata": {
        "colab": {
          "base_uri": "https://localhost:8080/"
        },
        "id": "PdnM_oBpBEnG",
        "outputId": "b85d7eb0-b1f7-4242-8685-f093b19e5260"
      },
      "source": [
        "frame = frame.drop(0, axis = 1)\n",
        "print(frame)"
      ],
      "execution_count": 3,
      "outputs": [
        {
          "output_type": "stream",
          "name": "stdout",
          "text": [
            "         1       2       3       4      5    ...    472    473    474    475    476\n",
            "0      Blank   Blank   Blank   Blank  Blank  ...  Blank  Blank  Blank  Blank  Blank\n",
            "1      Blank   Blank   Blank   Blank  Blank  ...  Blank  Blank  Blank  Blank  Blank\n",
            "2      Blank   Blank   Blank   Blank  Blank  ...  Blank  Blank  Blank  Blank  Blank\n",
            "3      Blank   Blank   Blank   Blank  Blank  ...  Blank  Blank  Blank  Blank  Blank\n",
            "4      Blank   Blank   Blank   Blank  Blank  ...  Blank  Blank  Blank  Blank  Blank\n",
            "...      ...     ...     ...     ...    ...  ...    ...    ...    ...    ...    ...\n",
            "56746  Blank   Blank  finish  finish  Blank  ...  Blank  Blank  Blank  Blank  Blank\n",
            "56747  Blank  finish   Blank   Blank  Blank  ...  Blank  Blank  Blank  Blank  Blank\n",
            "56748  Blank   Blank   Blank   Blank  Blank  ...  Blank  Blank  Blank  Blank  Blank\n",
            "56749  Blank   Blank   Blank   Blank  Blank  ...  Blank  Blank  Blank  Blank  Blank\n",
            "56750  Blank   Blank   Blank   Blank  Blank  ...  Blank  Blank  Blank  Blank  Blank\n",
            "\n",
            "[56751 rows x 476 columns]\n"
          ]
        }
      ]
    },
    {
      "cell_type": "code",
      "metadata": {
        "id": "8Y_ahu8mBwMX"
      },
      "source": [
        "discrete_columns = frame.columns.values.tolist()"
      ],
      "execution_count": 4,
      "outputs": []
    },
    {
      "cell_type": "code",
      "metadata": {
        "colab": {
          "base_uri": "https://localhost:8080/"
        },
        "id": "HJfrRFtH29_P",
        "outputId": "945bc485-fc90-4ff4-8079-575806d3c16f"
      },
      "source": [
        "!pip install ctgan"
      ],
      "execution_count": 5,
      "outputs": [
        {
          "output_type": "stream",
          "name": "stdout",
          "text": [
            "Requirement already satisfied: ctgan in /usr/local/lib/python3.7/dist-packages (0.4.3)\n",
            "Requirement already satisfied: torch<2,>=1.4 in /usr/local/lib/python3.7/dist-packages (from ctgan) (1.10.0+cu111)\n",
            "Requirement already satisfied: scikit-learn<1,>=0.23 in /usr/local/lib/python3.7/dist-packages (from ctgan) (0.24.2)\n",
            "Requirement already satisfied: numpy<2,>=1.18.0 in /usr/local/lib/python3.7/dist-packages (from ctgan) (1.21.4)\n",
            "Requirement already satisfied: rdt<0.6,>=0.5.0 in /usr/local/lib/python3.7/dist-packages (from ctgan) (0.5.3)\n",
            "Requirement already satisfied: packaging in /usr/local/lib/python3.7/dist-packages (from ctgan) (21.2)\n",
            "Requirement already satisfied: torchvision<1,>=0.5.0 in /usr/local/lib/python3.7/dist-packages (from ctgan) (0.11.1+cu111)\n",
            "Requirement already satisfied: pandas<1.1.5,>=1.1 in /usr/local/lib/python3.7/dist-packages (from ctgan) (1.1.4)\n",
            "Requirement already satisfied: pytz>=2017.2 in /usr/local/lib/python3.7/dist-packages (from pandas<1.1.5,>=1.1->ctgan) (2018.9)\n",
            "Requirement already satisfied: python-dateutil>=2.7.3 in /usr/local/lib/python3.7/dist-packages (from pandas<1.1.5,>=1.1->ctgan) (2.8.2)\n",
            "Requirement already satisfied: six>=1.5 in /usr/local/lib/python3.7/dist-packages (from python-dateutil>=2.7.3->pandas<1.1.5,>=1.1->ctgan) (1.15.0)\n",
            "Requirement already satisfied: scipy<2,>=1.4.1 in /usr/local/lib/python3.7/dist-packages (from rdt<0.6,>=0.5.0->ctgan) (1.4.1)\n",
            "Requirement already satisfied: psutil<6,>=5.7 in /usr/local/lib/python3.7/dist-packages (from rdt<0.6,>=0.5.0->ctgan) (5.8.0)\n",
            "Requirement already satisfied: threadpoolctl>=2.0.0 in /usr/local/lib/python3.7/dist-packages (from scikit-learn<1,>=0.23->ctgan) (3.0.0)\n",
            "Requirement already satisfied: joblib>=0.11 in /usr/local/lib/python3.7/dist-packages (from scikit-learn<1,>=0.23->ctgan) (1.1.0)\n",
            "Requirement already satisfied: typing-extensions in /usr/local/lib/python3.7/dist-packages (from torch<2,>=1.4->ctgan) (3.10.0.2)\n",
            "Requirement already satisfied: pillow!=8.3.0,>=5.3.0 in /usr/local/lib/python3.7/dist-packages (from torchvision<1,>=0.5.0->ctgan) (7.1.2)\n",
            "Requirement already satisfied: pyparsing<3,>=2.0.2 in /usr/local/lib/python3.7/dist-packages (from packaging->ctgan) (2.4.7)\n"
          ]
        }
      ]
    },
    {
      "cell_type": "code",
      "metadata": {
        "id": "D3xE8Lja3K81"
      },
      "source": [
        "def failurerate(ctgan):\n",
        "  samples = ctgan.sample(100)\n",
        "  failrate = 0\n",
        "\n",
        "  for index, row in samples.iterrows():\n",
        "    fail = 0\n",
        "    holdTypes = {\"Blank\":0,\"mid\":0,\"feet\":0,\"start\":0,\"finish\":0}\n",
        "    \n",
        "    for (columnName, columnData) in row.iteritems():\n",
        "      holdTypes[columnData] = holdTypes.get(columnData,0) + 1\n",
        "      \n",
        "    if holdTypes[\"start\"] == 0 or holdTypes[\"start\"] > 2:\n",
        "      fail = 1\n",
        "    elif holdTypes[\"finish\"] == 0 or holdTypes[\"finish\"] > 2:\n",
        "      fail = 1\n",
        "    elif holdTypes[\"finish\"] + holdTypes[\"finish\"] + holdTypes[\"finish\"] + holdTypes[\"finish\"] > 35:\n",
        "      fail = 1\n",
        "    failrate += fail\n",
        "\n",
        "  return failrate"
      ],
      "execution_count": 6,
      "outputs": []
    },
    {
      "cell_type": "code",
      "metadata": {
        "id": "P1D938YQ69BA"
      },
      "source": [
        "from ctgan import CTGANSynthesizer\n",
        "\n",
        "failurerates = []\n",
        "ctgan = CTGANSynthesizer(epochs = 60, batch_size = 1000, generator_lr = .0001, discriminator_lr = .0001, save=\"model.pkl\")\n",
        "ctgan.fit(frame, discrete_columns)\n",
        "fail = failurerate(ctgan)\n",
        "print(fail)\n",
        "failurerates.append(fail)"
      ],
      "execution_count": null,
      "outputs": []
    },
    {
      "cell_type": "code",
      "metadata": {
        "id": "_lJzxsq4IKOI"
      },
      "source": [
        ""
      ],
      "execution_count": null,
      "outputs": []
    }
  ]
}